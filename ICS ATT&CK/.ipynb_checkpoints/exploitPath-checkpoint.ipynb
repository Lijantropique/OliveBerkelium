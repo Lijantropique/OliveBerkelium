{
 "cells": [
  {
   "cell_type": "code",
   "execution_count": 1,
   "metadata": {},
   "outputs": [],
   "source": [
    "from attackcti import attack_client\n",
    "from random import choice"
   ]
  },
  {
   "cell_type": "code",
   "execution_count": 2,
   "metadata": {},
   "outputs": [
    {
     "name": "stdout",
     "output_type": "stream",
     "text": [
      "Techniques Count: 81\n"
     ]
    }
   ],
   "source": [
    "# create object and check current number of techniques\n",
    "lift = attack_client()\n",
    "ICS_TECHNIQUES = lift.get_ics_techniques()\n",
    "print(\"Techniques Count:\",len(ICS_TECHNIQUES))"
   ]
  },
  {
   "cell_type": "code",
   "execution_count": 3,
   "metadata": {},
   "outputs": [
    {
     "name": "stdout",
     "output_type": "stream",
     "text": [
      "Activate Firmware Update Mode\n",
      "inhibit-response-function\n"
     ]
    }
   ],
   "source": [
    "# sample\n",
    "print(ICS_TECHNIQUES[0]['name'])\n",
    "print(ICS_TECHNIQUES[0][\"kill_chain_phases\"][0]['phase_name'])"
   ]
  },
  {
   "cell_type": "code",
   "execution_count": 4,
   "metadata": {},
   "outputs": [],
   "source": [
    "# ICS ATT&CK phases (except impact)\n",
    "phases=[\n",
    "    'initial-access-ics',\n",
    "    'execution-ics',\n",
    "    'persistence-ics',\n",
    "    'evasion-ics',\n",
    "    'discovery-ics',\n",
    "    'lateral-movement-ics',\n",
    "    'collection-ics',\n",
    "    'command-and-control-ics',\n",
    "    'inhibit-response-function',\n",
    "    'impair-process-control'\n",
    "]"
   ]
  },
  {
   "cell_type": "code",
   "execution_count": 5,
   "metadata": {},
   "outputs": [],
   "source": [
    "# group techniques based on phase\n",
    "techniques={}\n",
    "for TECHNIQUE in ICS_TECHNIQUES:\n",
    "    if 'kill_chain_phases' in TECHNIQUE:\n",
    "        phase = TECHNIQUE[\"kill_chain_phases\"][0]['phase_name']\n",
    "        if phase in phases:\n",
    "            techniques[phase] = techniques.get(phase, []) + [TECHNIQUE[\"name\"]]"
   ]
  },
  {
   "cell_type": "code",
   "execution_count": 6,
   "metadata": {},
   "outputs": [
    {
     "data": {
      "text/plain": [
       "['Activate Firmware Update Mode',\n",
       " 'Block Serial COM',\n",
       " 'Block Command Message',\n",
       " 'Data Destruction',\n",
       " 'Denial of Service',\n",
       " 'Manipulate I/O Image',\n",
       " 'Block Reporting Message',\n",
       " 'Alarm Suppression',\n",
       " 'Device Restart/Shutdown',\n",
       " 'Modify Alarm Settings']"
      ]
     },
     "execution_count": 6,
     "metadata": {},
     "output_type": "execute_result"
    }
   ],
   "source": [
    "# sample\n",
    "techniques['inhibit-response-function']"
   ]
  },
  {
   "cell_type": "code",
   "execution_count": 7,
   "metadata": {},
   "outputs": [],
   "source": [
    "def createPath():\n",
    "    path = ''\n",
    "    for phase in phases:\n",
    "        path += f'{phase}->{choice(techniques[phase])}\\n'\n",
    "    return path"
   ]
  },
  {
   "cell_type": "code",
   "execution_count": 8,
   "metadata": {},
   "outputs": [
    {
     "name": "stdout",
     "output_type": "stream",
     "text": [
      "initial-access-ics->Supply Chain Compromise\n",
      "execution-ics->Man in the Middle\n",
      "persistence-ics->Valid Accounts\n",
      "evasion-ics->Exploitation for Evasion\n",
      "discovery-ics->Network Service Scanning\n",
      "lateral-movement-ics->Remote File Copy\n",
      "collection-ics->Detect Program State\n",
      "command-and-control-ics->Commonly Used Port\n",
      "inhibit-response-function->Alarm Suppression\n",
      "impair-process-control->Unauthorized Command Message\n",
      "\n"
     ]
    }
   ],
   "source": [
    "print(createPath())"
   ]
  },
  {
   "cell_type": "code",
   "execution_count": 9,
   "metadata": {},
   "outputs": [
    {
     "name": "stdout",
     "output_type": "stream",
     "text": [
      "initial-access-ics->Data Historian Compromise\n",
      "execution-ics->Change Program State\n",
      "persistence-ics->Module Firmware\n",
      "evasion-ics->Spoof Reporting Message\n",
      "discovery-ics->Control Device Identification\n",
      "lateral-movement-ics->Exploitation of Remote Services\n",
      "collection-ics->Monitor Process State\n",
      "command-and-control-ics->Connection Proxy\n",
      "inhibit-response-function->Device Restart/Shutdown\n",
      "impair-process-control->Unauthorized Command Message\n",
      "\n"
     ]
    }
   ],
   "source": [
    "print(createPath())"
   ]
  },
  {
   "cell_type": "code",
   "execution_count": null,
   "metadata": {},
   "outputs": [],
   "source": []
  },
  {
   "cell_type": "code",
   "execution_count": null,
   "metadata": {},
   "outputs": [],
   "source": []
  },
  {
   "cell_type": "code",
   "execution_count": null,
   "metadata": {},
   "outputs": [],
   "source": []
  },
  {
   "cell_type": "code",
   "execution_count": null,
   "metadata": {},
   "outputs": [],
   "source": []
  },
  {
   "cell_type": "code",
   "execution_count": null,
   "metadata": {},
   "outputs": [],
   "source": []
  }
 ],
 "metadata": {
  "kernelspec": {
   "display_name": "Python 3",
   "language": "python",
   "name": "python3"
  },
  "language_info": {
   "codemirror_mode": {
    "name": "ipython",
    "version": 3
   },
   "file_extension": ".py",
   "mimetype": "text/x-python",
   "name": "python",
   "nbconvert_exporter": "python",
   "pygments_lexer": "ipython3",
   "version": "3.7.6"
  }
 },
 "nbformat": 4,
 "nbformat_minor": 4
}
